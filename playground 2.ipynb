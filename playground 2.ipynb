{
 "cells": [
  {
   "cell_type": "code",
   "execution_count": null,
   "id": "initial_id",
   "metadata": {
    "collapsed": true
   },
   "outputs": [],
   "source": [
    ""
   ]
  },
  {
   "metadata": {
    "ExecuteTime": {
     "end_time": "2025-07-17T17:10:56.365781Z",
     "start_time": "2025-07-17T17:10:56.356676Z"
    }
   },
   "cell_type": "code",
   "source": [
    "from datasets import Dataset\n",
    "\n",
    "dataset = Dataset.from_dict({\"audio\": ['a', 'b', 'c'], \"label\": [1, 2, 3]})\n",
    "next(iter(dataset))['audio']"
   ],
   "id": "4301ca8ca57a1881",
   "outputs": [
    {
     "data": {
      "text/plain": [
       "'a'"
      ]
     },
     "execution_count": 7,
     "metadata": {},
     "output_type": "execute_result"
    }
   ],
   "execution_count": 7
  },
  {
   "metadata": {},
   "cell_type": "code",
   "outputs": [],
   "execution_count": null,
   "source": "",
   "id": "203aec46f05106ad"
  },
  {
   "metadata": {
    "ExecuteTime": {
     "end_time": "2025-07-17T17:10:58.161717Z",
     "start_time": "2025-07-17T17:10:58.157444Z"
    }
   },
   "cell_type": "code",
   "source": [
    "for audio in iter(dataset):\n",
    "    print(audio)"
   ],
   "id": "55f9138631023d0f",
   "outputs": [
    {
     "name": "stdout",
     "output_type": "stream",
     "text": [
      "{'audio': 'a', 'label': 1}\n",
      "{'audio': 'b', 'label': 2}\n",
      "{'audio': 'c', 'label': 3}\n"
     ]
    }
   ],
   "execution_count": 8
  },
  {
   "metadata": {
    "ExecuteTime": {
     "end_time": "2025-07-17T17:23:16.705349Z",
     "start_time": "2025-07-17T17:23:14.134033Z"
    }
   },
   "cell_type": "code",
   "source": [
    "\n",
    "\n",
    "test_flac = '/Users/lkieu/PycharmProjects/PhonemeAwareFoundational/test_audio/canterburytales_09_chaucer_64kb.flac'\n",
    "from datasets import Audio, Dataset\n",
    "\n",
    "# English\n",
    "dataset = Dataset.from_dict({\"audio\": [test_flac]})\n",
    "stream_data = dataset.cast_column(\"audio\", Audio())\n",
    "en_sample = next(iter(stream_data))[\"audio\"][\"array\"]\n"
   ],
   "id": "b7f62ac7cadac4f6",
   "outputs": [],
   "execution_count": 10
  }
 ],
 "metadata": {
  "kernelspec": {
   "display_name": "Python 3",
   "language": "python",
   "name": "python3"
  },
  "language_info": {
   "codemirror_mode": {
    "name": "ipython",
    "version": 2
   },
   "file_extension": ".py",
   "mimetype": "text/x-python",
   "name": "python",
   "nbconvert_exporter": "python",
   "pygments_lexer": "ipython2",
   "version": "2.7.6"
  }
 },
 "nbformat": 4,
 "nbformat_minor": 5
}
